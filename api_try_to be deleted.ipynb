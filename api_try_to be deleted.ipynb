{
 "cells": [
  {
   "cell_type": "code",
   "execution_count": 2,
   "metadata": {},
   "outputs": [],
   "source": [
    "import requests\n",
    "import json"
   ]
  },
  {
   "cell_type": "code",
   "execution_count": 9,
   "metadata": {},
   "outputs": [],
   "source": [
    "text = \"Nikita is very good at\""
   ]
  },
  {
   "cell_type": "code",
   "execution_count": 11,
   "metadata": {},
   "outputs": [
    {
     "name": "stdout",
     "output_type": "stream",
     "text": [
      "{\"generated_text\":\"Nikita is very good at what she does.\\\"\\n\\nHer mother said: \\\"My daughter works in the entertainment industry now, there's one of her own TV shows and\"}\n"
     ]
    }
   ],
   "source": [
    "import requests\n",
    "\n",
    "# google run api access\n",
    "\n",
    "url = 'https://huggingface-googlerun-6u4yq4wz5q-no.a.run.app/generate'\n",
    "\n",
    "myobj = {'text': text}\n",
    "\n",
    "x = requests.post(url, json = myobj)\n",
    "\n",
    "print(x.text)"
   ]
  },
  {
   "cell_type": "code",
   "execution_count": null,
   "metadata": {},
   "outputs": [],
   "source": []
  }
 ],
 "metadata": {
  "kernelspec": {
   "display_name": "Python 3.8.12 64-bit ('shims')",
   "language": "python",
   "name": "python3"
  },
  "language_info": {
   "codemirror_mode": {
    "name": "ipython",
    "version": 3
   },
   "file_extension": ".py",
   "mimetype": "text/x-python",
   "name": "python",
   "nbconvert_exporter": "python",
   "pygments_lexer": "ipython3",
   "version": "3.8.12"
  },
  "orig_nbformat": 4,
  "vscode": {
   "interpreter": {
    "hash": "82044278e2c5f7fd168fba520d5268c1317f361e2c92cdba95ccef1badd69173"
   }
  }
 },
 "nbformat": 4,
 "nbformat_minor": 2
}
